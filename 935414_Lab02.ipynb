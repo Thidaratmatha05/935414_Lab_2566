{
  "nbformat": 4,
  "nbformat_minor": 0,
  "metadata": {
    "colab": {
      "provenance": [],
      "include_colab_link": true
    },
    "kernelspec": {
      "name": "python3",
      "display_name": "Python 3"
    },
    "language_info": {
      "name": "python"
    }
  },
  "cells": [
    {
      "cell_type": "markdown",
      "metadata": {
        "id": "view-in-github",
        "colab_type": "text"
      },
      "source": [
        "<a href=\"https://colab.research.google.com/github/Thidaratmatha05/935414_Lab_2566/blob/main/935414_Lab02.ipynb\" target=\"_parent\"><img src=\"https://colab.research.google.com/assets/colab-badge.svg\" alt=\"Open In Colab\"/></a>"
      ]
    },
    {
      "cell_type": "markdown",
      "source": [
        "**ปัญหาที่ 1** ตัวแบบการผลิต บริษัทแห่งหนึ่งผลิตสินค้าชนิด A  และชนิด B โดยที่สินค้าชนิด A แต่ละหน่วยใช้เวลาในการผลิตที่เครื่องจักรที่หนึ่ง 1 ชั่วโมง และเครื่องจักรที่สาม 3 ชั่วโมง ส่วนสินค้าชนิด B แต่ละหน่วยใช้เวลาในการผลิตที่เครื่องจักรที่สอง 2 ชั่วโมง และเครื่องจักรที่สาม 2 ชั่วโมง ถ้าในแต่ละวัน เวลาทำงานสูงสุดของเครื่องจักรที่หนึ่งเท่ากับ 4 ชั่วโมง เครื่องจักรที่สองเท่ากับ 12 ชั่วโมงและเครื่องจักรที่สามเท่ากับ 18 ชั่วโมงเท่านั้น บริษัทได้กำไรจากการขายสินค้าชนิด A  หน่วยละ 300 บาท และชนิด B หน่วยละ 500 บาท อยากทราบว่าทางบริษัทควรผลิตสินค้าชนิด A และชนิด B วันละกี่หน่วย จึงได้กำไรมากที่สุด และเป็นเงินเท่าไร"
      ],
      "metadata": {
        "id": "Yop4ljDVPinb"
      }
    },
    {
      "cell_type": "code",
      "execution_count": null,
      "metadata": {
        "colab": {
          "base_uri": "https://localhost:8080/"
        },
        "id": "JXhwB2SLPOjU",
        "outputId": "797cd5ed-2654-438e-da15-65ccfa01340c"
      },
      "outputs": [
        {
          "output_type": "stream",
          "name": "stdout",
          "text": [
            "จำนวนรอบ 9 | จำนวนสินค้าชนิด A =  2 หน่วย จำนวนสินค้าชนิด B =  6 หน่วย ได้กำไร 3600 บาท\n"
          ]
        }
      ],
      "source": [
        "import numpy as np\n",
        "maxZ = 0 # กำไรจากการขายสินค้า\n",
        "best_x1 = 0\n",
        "best_x2 = 0\n",
        "count = 0\n",
        "#x1 จำนวนสินค้าชนิด A  (x1 := 0, 1, 2, 3, 4)\n",
        "#x2 จำนวนสินค้าชนิด B (x2 := 0, 1, 2, 3, 4, 5, 6)\n",
        "for x1 in range(5):\n",
        "   for x2 in range(7):\n",
        "      C1 = (x1<=4)\n",
        "      C2 = (2*x2 <= 12)\n",
        "      C3 = (3*x1 + 2*x2 <= 18)\n",
        "      if (C1 and C2 and C3):\n",
        "         Z = 300*x1 + 500*x2\n",
        "         if Z >= maxZ :\n",
        "            count += 1\n",
        "            maxZ = Z\n",
        "            best_x1 = x1\n",
        "            best_x2 = x2\n",
        "####--------------------\n",
        "print(\"จำนวนรอบ\", count, \"| จำนวนสินค้าชนิด A = \", best_x1, \"หน่วย\", \"จำนวนสินค้าชนิด B = \", best_x2, \"หน่วย\", \"ได้กำไร\", maxZ, \"บาท\")"
      ]
    },
    {
      "cell_type": "markdown",
      "source": [
        "**ปัญหาที่ 2 ตัวแบบการขนส่ง **บริษัทอุตสาหกรรมแห่งหนึ่งมีโรงงานผลิตอยู่ในเมือง A, B และ C ตามลำดับ โดยจะต้องส่งสินค้าไปร้านค้ายังเมือง X และ Y ตามลำดับ"
      ],
      "metadata": {
        "id": "dVT6j--jX4nj"
      }
    },
    {
      "cell_type": "code",
      "source": [
        "minZ = 10000000 # กำไรจากการขายสินค้า\n",
        "best_x1 = 0\n",
        "best_x2 = 0\n",
        "best_x3 = 0\n",
        "best_x4 = 0\n",
        "best_x5 = 0\n",
        "best_x6 = 0\n",
        "count = 0\n",
        "#x1 จำนวนสินค้าจาก A  ไป X (0-10)\n",
        "#x2 จำนวนสินค้าจาก A  ไป Y (0-10)\n",
        "#x3 จำนวนสินค้าจาก B  ไป X (0-15)\n",
        "#x4 จำนวนสินค้าจาก B  ไป Y (0-15)\n",
        "#x5 จำนวนสินค้าจาก C  ไป X (0-12)\n",
        "#x6 จำนวนสินค้าจาก C  ไป Y (0-12)\n",
        "for x1 in range(101): #101\n",
        "   for x2 in range(101):\n",
        "     for x3 in range(151): #151\n",
        "        for x4 in range(151):\n",
        "          for x5 in range(121): #121\n",
        "             for x6 in range(121):\n",
        "                count += 1\n",
        "                # print([count, x1, x2, x3, x4, x5, x6])\n",
        "                C1 = (x1 + x2 == 1000)\n",
        "                C2 = (x3 + x4 == 1500)\n",
        "                C3 = (x5 + x6 == 1200)\n",
        "                C4 = (x1+x3+x5 == 2300)\n",
        "                C5 = (x2+x4+x6 == 1400)\n",
        "                # print([count, C1, C2, C3, C4, C5])\n",
        "                if (C1 and C2 and C3 and C4 and C5):\n",
        "                   Z = (x1*1000+x2*2690+x3*1250+x4*1350+x5*1275+x6*850)*8\n",
        "                   print([count, Z])\n",
        "                   if Z <= minZ :\n",
        "                      minZ = Z\n",
        "                      best_x1 = x1\n",
        "                      best_x2 = x2\n",
        "                      best_x3 = x3\n",
        "                      best_x4 = x4\n",
        "                      best_x5 = x5\n",
        "                      best_x6 = x6\n",
        "####--------------------\n",
        "print(best_x1,best_x2,best_x3,best_x4,best_x5,best_x6, minZ)\n",
        "#print(\"จำนวนสินค้าชนิด A = \", best_x1, \"หน่วย\", \"จำนวนสินค้าชนิด B = \", best_x2, \"หน่วย\", \"ได้กำไร\", maxZ, \"บาท\")"
      ],
      "metadata": {
        "id": "OJi2PUlHX35z"
      },
      "execution_count": null,
      "outputs": []
    }
  ]
}