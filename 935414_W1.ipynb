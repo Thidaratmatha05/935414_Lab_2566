{
  "nbformat": 4,
  "nbformat_minor": 0,
  "metadata": {
    "colab": {
      "provenance": []
    },
    "kernelspec": {
      "name": "python3",
      "display_name": "Python 3"
    },
    "language_info": {
      "name": "python"
    }
  },
  "cells": [
    {
      "cell_type": "code",
      "source": [
        "#ลูกเต๋า 5 ลูก โยนทั้งหมด\n",
        "nd = 0\n",
        "nd5 = 0\n",
        "for d1 in range(1,7):\n",
        "  for d2 in range(1,7):\n",
        "    for d3 in range(1,7):\n",
        "       for d4 in range(1,7):\n",
        "         for d5 in range(1,7):\n",
        "            nd = nd+1\n",
        "            if d1 == d2 == d3 == d4 == d5:\n",
        "              nd5 = nd5+1\n",
        "              print(\"ครั้งที่  \",nd, \"  แต้มแต่ละลูกได้ \", d1,d2,d3,d4,d5)\n",
        "\n",
        "print(\"nd = \",nd)\n",
        "print(\"6**5 = \", 6**5)\n",
        "\n",
        "print(\"จำนวนที่แต้มเหมือนกัน 5 ลูก \",nd5 , \"ครัง\")\n",
        "print(\"ความน่าจะเป็น ที่แต้มเหมือนกัน 5 ลูก = nd5/nd = \",nd5,\"/\",nd,\" = \",nd5/nd)\n"
      ],
      "metadata": {
        "colab": {
          "base_uri": "https://localhost:8080/"
        },
        "id": "BQSuk2zQQoP8",
        "outputId": "c2de7cb9-88f4-436b-ca62-6d825b0b7a8a"
      },
      "execution_count": null,
      "outputs": [
        {
          "output_type": "stream",
          "name": "stdout",
          "text": [
            "ครั้งที่   1   แต้มแต่ละลูกได้  1 1 1 1 1\n",
            "ครั้งที่   1556   แต้มแต่ละลูกได้  2 2 2 2 2\n",
            "ครั้งที่   3111   แต้มแต่ละลูกได้  3 3 3 3 3\n",
            "ครั้งที่   4666   แต้มแต่ละลูกได้  4 4 4 4 4\n",
            "ครั้งที่   6221   แต้มแต่ละลูกได้  5 5 5 5 5\n",
            "ครั้งที่   7776   แต้มแต่ละลูกได้  6 6 6 6 6\n",
            "nd =  7776\n",
            "6**5 =  7776\n",
            "จำนวนที่แต้มเหมือนกัน 5 ลูก  6 ครัง\n",
            "ความน่าจะเป็น ที่แต้มเหมือนกัน 5 ลูก = nd5/nd =  6 / 7776  =  0.0007716049382716049\n"
          ]
        }
      ]
    },
    {
      "cell_type": "code",
      "execution_count": null,
      "metadata": {
        "colab": {
          "base_uri": "https://localhost:8080/"
        },
        "id": "N2kfDDYLQnHs",
        "outputId": "d7a51b58-d5a6-442d-8300-b05c0c1b08c8"
      },
      "outputs": [
        {
          "output_type": "stream",
          "name": "stdout",
          "text": [
            "(1, 1, 1, 1, 1) [5, 0, 0, 0, 0, 0]\n",
            "(2, 2, 2, 2, 2) [0, 5, 0, 0, 0, 0]\n",
            "(3, 3, 3, 3, 3) [0, 0, 5, 0, 0, 0]\n",
            "(4, 4, 4, 4, 4) [0, 0, 0, 5, 0, 0]\n",
            "(5, 5, 5, 5, 5) [0, 0, 0, 0, 5, 0]\n",
            "(6, 6, 6, 6, 6) [0, 0, 0, 0, 0, 5]\n",
            "ความน่าจะเป็น แต้มเหมือนกัน 5 ลูก = nE/nd =  6 / 7776  =  0.0007716049382716049\n"
          ]
        }
      ],
      "source": [
        "#แจงนับความน่าจะเป็น\n",
        "import itertools\n",
        "dp = range(1,7)  #จำนวนแต้มที่สามารถเกิดขึ้นได้ 1,2,3,4,5,6 (python เริ่มนับค่าเริ่มต้น และไม่นับค่าปลาย)\n",
        "nE = 0     # กรณีการที่ลูกเต๋า 5 ลูกเกิดแต้มเดียวกัน\n",
        "nd = 0     # จำนวนลูกแบบทั้งหมด\n",
        "for element in itertools.product(dp, dp, dp, dp, dp):  #การวนซ้ำแบบ จับคู่ทั้งหมด (คาร์เทเซียนโปรดัก)\n",
        "    a=element     #ผลลัพธ์การจำคู่ทั้งหมด\n",
        "    pp = [0]*6    #เตรียมลิสต์จำหรับเก็บแต้มที่เกิดขึ้นในแต่ละผลลัพธ์\n",
        "    nd = nd + 1\n",
        "    for dd in a:\n",
        "        pp[dd-1] = pp[dd-1]+1\n",
        "    if (5 in pp):\n",
        "       nE = nE + 1\n",
        "       print (element,pp)\n",
        "#ความน่าจะเป็นของ เหตุการณ์ PE = nE/nd\n",
        "PE = nE/nd\n",
        "# print(nE, nd, PE)\n",
        "print(\"ความน่าจะเป็น แต้มเหมือนกัน 5 ลูก = nE/nd = \",nE,\"/\",nd,\" = \",PE)"
      ]
    },
    {
      "cell_type": "code",
      "source": [
        "#จำลองแบบ (Simulations)\n",
        "import random\n",
        "nExp = 1000000\n",
        "nE = 0  #เหตุการณ์ที่เราสนใจ\n",
        "for i in range(nExp):\n",
        "  pp = [0]*6    #เตรียมลิสต์จำหรับเก็บแต้มที่เกิดขึ้นในแต่ละผลลัพธ์\n",
        "  d5 = [random.randint(1,6),\n",
        "        random.randint(1,6),\n",
        "        random.randint(1,6),\n",
        "        random.randint(1,6),\n",
        "        random.randint(1,6)]\n",
        "  #print(d5)\n",
        "  for d in d5:\n",
        "        pp[d-1] = pp[d-1]+1\n",
        "  #print(pp)\n",
        "  if (5 in pp):\n",
        "       nE = nE + 1\n",
        "#ความน่าจะเป็น PE = nE/nExp\n",
        "PE = nE/nExp\n",
        "# print(nE, nExp, PE)\n",
        "print(\"ความน่าจะเป็น ที่แต้มเหมือนกัน 5 ลูก = nE/nExp = \",nE,\"/\",nExp,\" = \",PE)"
      ],
      "metadata": {
        "colab": {
          "base_uri": "https://localhost:8080/"
        },
        "id": "eE8trXB5Klpf",
        "outputId": "db7a3c66-422d-4c63-a019-18e9c9961037"
      },
      "execution_count": null,
      "outputs": [
        {
          "output_type": "stream",
          "name": "stdout",
          "text": [
            "ความน่าจะเป็น ที่แต้มเหมือนกัน 5 ลูก = nE/nExp =  789 / 1000000  =  0.000789\n"
          ]
        }
      ]
    }
  ]
}