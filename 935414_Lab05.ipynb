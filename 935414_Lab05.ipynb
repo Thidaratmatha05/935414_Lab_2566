{
  "nbformat": 4,
  "nbformat_minor": 0,
  "metadata": {
    "colab": {
      "provenance": []
    },
    "kernelspec": {
      "name": "python3",
      "display_name": "Python 3"
    },
    "language_info": {
      "name": "python"
    }
  },
  "cells": [
    {
      "cell_type": "markdown",
      "source": [
        "1. การแจกไพ่สุ่มจำนวน 5 ใบ จากจำนวน 52 ใบ\n",
        "และสนใจหาความน่าจะเป็นเหตุการณ์ตามเงื่อนไขต่างๆ"
      ],
      "metadata": {
        "id": "Q0_ui_yWL2Bl"
      }
    },
    {
      "cell_type": "code",
      "source": [
        "import random\n",
        "# จำนวนการทดลอง\n",
        "# สามารถเปลี่ยนจำนวนนี้ตามต้องการ\n",
        "num_simulations = 10000\n",
        "\n",
        "# สร้างสำรับไพ่ 52 ใบ\n",
        "suits = ['Hearts', 'Diamonds', 'Clubs', 'Spades']\n",
        "ranks = ['2', '3', '4', '5', '6', '7', '8', '9', '10', 'Jack', 'Queen', 'King', 'Ace']\n",
        "\n",
        "Diamonds_Ace_Hearts_King = 0\n",
        "\n",
        "for _ in range(num_simulations):\n",
        "    # สุ่ม hand 5 ใบ\n",
        "    hand = random.sample([{'rank': rank, 'suit': suit} for rank in ranks for suit in suits], 5)\n",
        "    # print(_,\"->\",hand)\n",
        "\n",
        "    # นับจำนวนครั้งที่ได้ไพ่ Diamonds Ace และไพ่ Hearts King\n",
        "    count_Diamonds_Ace = 0\n",
        "    count_Hearts_King = 0\n",
        "\n",
        "    for card in hand:\n",
        "      # ถ้าได้ Diamonds Ace -- card['suit'] == 'Diamonds' and card['rank'] == 'Ace'\n",
        "        if card['suit'] == 'Diamonds' and card['rank'] == 'Ace':\n",
        "            count_Diamonds_Ace += 1\n",
        "            # print(count_Diamonds_Ace, \" <--\")\n",
        "      # ถ้าได้ Hearts King -- card['suit'] == 'Hearts' and card['rank'] == 'King'\n",
        "        elif card['suit'] == 'Hearts' and card['rank'] == 'King':\n",
        "            count_Hearts_King += 1\n",
        "            # print(\"--> \",count_Hearts_King)\n",
        "\n",
        "  # ถ้าได้ Diamonds Ace และ Hearts King\n",
        "    if count_Diamonds_Ace == 1 and count_Hearts_King == 1:\n",
        "        Diamonds_Ace_Hearts_King += 1\n",
        "        # print(\"Diamonds_Ace_Hearts_King\", \" --> \", Diamonds_Ace_Hearts_King, \" <-- \")\n",
        "\n",
        "PE = Diamonds_Ace_Hearts_King/num_simulations\n",
        "print(f\"สุ่มไพ่ {num_simulations} ครั้ง, จำนวนที่ได้ Diamonds Ace และ Hearts King --> {Diamonds_Ace_Hearts_King}\")\n",
        "print(f\"ความน่าจะเป็น Diamonds Ace และ Hearts King --> PE = {Diamonds_Ace_Hearts_King}/{num_simulations}\")\n",
        "print(f\"ความน่าจะเป็น Diamonds Ace และ Hearts King --> PE = \",PE)"
      ],
      "metadata": {
        "colab": {
          "base_uri": "https://localhost:8080/"
        },
        "id": "e7oN1h1BkDUf",
        "outputId": "82e8b219-5fc1-41ab-8d45-1cfd212c50a5"
      },
      "execution_count": 1,
      "outputs": [
        {
          "output_type": "stream",
          "name": "stdout",
          "text": [
            "สุ่มไพ่ 10000 ครั้ง, จำนวนที่ได้ Diamonds Ace และ Hearts King --> 81\n",
            "ความน่าจะเป็น Diamonds Ace และ Hearts King --> PE = 81/10000\n",
            "ความน่าจะเป็น Diamonds Ace และ Hearts King --> PE =  0.0081\n"
          ]
        }
      ]
    },
    {
      "cell_type": "markdown",
      "source": [
        "สุ่มไพ่ 1 ใบในแต่ละรอบและนับว่ามีกี่ครั้งที่ได้ไพ่ Diamonds และ Ace และนำจำนวนนั้นมาแสดงผลหลังจากการทำซ้ำ 1000 ครั้ง. โค้ดดูเหมาะสำหรับการตรวจสอบความน่าจะเป็นของเหตุการณ์ที่เฉพาะเจาะจง ในที่นี้คือการได้ไพ่ Diamonds และ Ace ใน 1 ใบ."
      ],
      "metadata": {
        "id": "3S38FxjrpFIb"
      }
    },
    {
      "cell_type": "code",
      "execution_count": 2,
      "metadata": {
        "colab": {
          "base_uri": "https://localhost:8080/"
        },
        "id": "mmiz48tWLqnx",
        "outputId": "cb42747c-6c2c-45f8-ed9c-ecf5dd7b4371"
      },
      "outputs": [
        {
          "output_type": "stream",
          "name": "stdout",
          "text": [
            "สุ่มไพ่ 1000 รอบ, จำนวนที่ได้ Diamonds_Ace -> 21\n",
            "ความน่าจะเป็นที่ได้ Diamonds_Ace ->  0.021\n"
          ]
        }
      ],
      "source": [
        "import random\n",
        "# จำนวนการทดลอง\n",
        "# สามารถเปลี่ยนจำนวนนี้ตามต้องการ\n",
        "num_simulations = 1000\n",
        "\n",
        "# สร้างสำรับไพ่ 52 ใบ\n",
        "suits = ['Hearts', 'Diamonds', 'Clubs', 'Spades']\n",
        "ranks = ['2', '3', '4', '5', '6', '7', '8', '9', '10', 'Jack', 'Queen', 'King', 'Ace']\n",
        "\n",
        "count = 0\n",
        "Diamonds_Ace = 0\n",
        "\n",
        "for _ in range(num_simulations):\n",
        "# สุ่ม hand_suits และ hand_ranks อย่างละ 1\n",
        "  hand_suits = random.sample(suits, 1)\n",
        "  hand_ranks = random.sample(ranks, 1)\n",
        "# print(\"Count\", count, \"- hand_suits -\", hand_suits, \"- hand_ranks -\", hand_ranks)\n",
        "\n",
        "  count += 1\n",
        "# ถ้ามีไพ่ Diamonds และ Ace\n",
        "\n",
        "  if set(hand_suits) == {'Diamonds'} and set(hand_ranks) == {'Ace'}:\n",
        "# if (hand_suits == ['Diamonds') and (hand_ranks == ['Ace'):\n",
        "# ครั้งที่ได้ไพ่ Diamonds และ Ace\n",
        "\n",
        "    Diamonds_Ace += 1\n",
        "    # print(\"สุ่มครั้งที่\",count ,\"ได้ Diamonds_Ace \", Diamonds_Ace)\n",
        "\n",
        "PE = Diamonds_Ace/num_simulations\n",
        "print(\"สุ่มไพ่\", num_simulations, \"รอบ, จำนวนที่ได้ Diamonds_Ace ->\", Diamonds_Ace)\n",
        "print(\"ความน่าจะเป็นที่ได้ Diamonds_Ace -> \", PE)"
      ]
    }
  ]
}