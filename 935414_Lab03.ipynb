{
  "cells": [
    {
      "cell_type": "markdown",
      "metadata": {
        "id": "OLUiWGZ-P253"
      },
      "source": [
        "# **ระเบียบวิธีเชิงตัวเลข**\n",
        "<p> กิจกรรม เขียนโปรแกรมคอมพิวเตอร์คำนวณแก้ปัญหา (หาผลเฉลย) โดยระเบียบวิธีเชิงตัวเลขต่อไปนี้ <p>"
      ]
    },
    {
      "cell_type": "markdown",
      "metadata": {
        "id": "WAgqdVN4QNvt"
      },
      "source": [
        "1.การหาผลเฉลย (รากของสมการ) ด้วยวิธีแบ่งครึ่งช่วง (bisection method)\n",
        "<p>1.1 หารากของสมการ $f(x) = 5x^3 - 4x + 1$ ในช่วง [-2, -0.5] โดยมีค่าคลาดเคลื่อนน้อยกว่า 0.1\n",
        "<p> 1.2 หาค่า $x$ ที่ทำให้ $f(x) = 5 = 5x^3 - 4x + 1$\n",
        "จะได้ $0 = 5x^3 - 4x - 4$\n"
      ]
    },
    {
      "cell_type": "code",
      "execution_count": 2,
      "metadata": {
        "id": "Cv7Vs-InQGo1"
      },
      "outputs": [
        {
          "name": "stdout",
          "output_type": "stream",
          "text": [
            "[0] [-2.0, -1.25, -0.5]\n",
            "[-31.0, -3.765625, 2.375] \n",
            "\n",
            "[1] [-1.25, -0.875, -0.5]\n",
            "[-3.765625, 1.150390625, 2.375] \n",
            "\n",
            "[2] [-1.25, -1.0625, -0.875]\n",
            "[-3.765625, -0.747314453125, 1.150390625] \n",
            "\n",
            "[3] [-1.0625, -0.96875, -0.875]\n",
            "[-0.747314453125, 0.329254150390625, 1.150390625] \n",
            "\n",
            "[4] [-1.0625, -1.015625, -0.96875]\n",
            "[-0.747314453125, -0.17555618286132812, 0.329254150390625] \n",
            "\n",
            "[5] [-1.015625, -0.9921875, -0.96875]\n",
            "[-0.17555618286132812, 0.08502435684204102, 0.329254150390625] \n",
            "\n",
            "[6] [-1.015625, -1.00390625, -0.9921875]\n",
            "[-0.17555618286132812, -0.04319792985916138, 0.08502435684204102] \n",
            "\n",
            "[7] [-1.00390625, -0.998046875, -0.9921875]\n",
            "[-0.04319792985916138, 0.02142719179391861, 0.08502435684204102] \n",
            "\n",
            "[8] [-1.00390625, -1.0009765625, -0.998046875]\n",
            "[-0.04319792985916138, -0.010756497271358967, 0.02142719179391861] \n",
            "\n",
            "[9] [-1.0009765625, -0.99951171875, -0.998046875]\n",
            "[-0.010756497271358967, 0.005367518053390086, 0.02142719179391861] \n",
            "\n",
            "[10] [-1.0009765625, -1.000244140625, -0.99951171875]\n",
            "[-0.010756497271358967, -0.002686441017431207, 0.005367518053390086] \n",
            "\n",
            "[11] [-1.000244140625, -0.9998779296875, -0.99951171875]\n",
            "[-0.002686441017431207, 0.0013425499291770393, 0.005367518053390086] \n",
            "\n",
            "[12] [-1.000244140625, -1.00006103515625, -0.9998779296875]\n",
            "[-0.002686441017431207, -0.0006714425992413453, 0.0013425499291770393] \n",
            "\n",
            "[13] [-1.00006103515625, -0.999969482421875, -0.9998779296875]\n",
            "[-0.0006714425992413453, 0.0003356793896784893, 0.0013425499291770393] \n",
            "\n",
            "[14] [-1.00006103515625, -1.0000152587890625, -0.999969482421875]\n",
            "[-0.0006714425992413453, -0.00016785017216491838, 0.0003356793896784893] \n",
            "\n",
            "[15] [-1.0000152587890625, -0.9999923706054688, -0.999969482421875]\n",
            "[-0.00016785017216491838, 8.392246673061265e-05, 0.0003356793896784893] \n",
            "\n",
            "[16] [-1.0000152587890625, -1.0000038146972656, -0.9999923706054688]\n",
            "[-0.00016785017216491838, -4.1961888200603426e-05, 8.392246673061265e-05] \n",
            "\n",
            "[17] [-1.0000038146972656, -0.9999980926513672, -0.9999923706054688]\n",
            "[-4.1961888200603426e-05, 2.0980780391255394e-05, 8.392246673061265e-05] \n",
            "\n",
            "[18] [-1.0000038146972656, -1.0000009536743164, -0.9999980926513672]\n",
            "[-4.1961888200603426e-05, -1.0490431122889277e-05, 2.0980780391255394e-05] \n",
            "\n",
            "[19] [-1.0000009536743164, -0.9999995231628418, -0.9999980926513672]\n",
            "[-1.0490431122889277e-05, 5.245205329629243e-06, 2.0980780391255394e-05] \n",
            "\n"
          ]
        }
      ],
      "source": [
        "# 1.1\n",
        "import numpy as np\n",
        "\n",
        "def fx(x):\n",
        "  return 5*x**3 - 4*x + 1\n",
        "a = -2.0\n",
        "b = -0.5\n",
        "eps = 0.00001\n",
        "for itr in range(100):\n",
        "  fa = fx(a)       #5*a**3 - 4*a + 1\n",
        "  fb = fx(b)       #5*b**3 - 4*b + 1\n",
        "  m = (a + b)/2.0\n",
        "  fm = fx(m)       #5*m**3 - 4*m + 1\n",
        "  # print(itr,\">>\", a, m, b)\n",
        "  print([itr],[a,m,b])\n",
        "  # print(fa, fm, fb)\n",
        "  print([fa,fm,fb],\"\\n\")\n",
        "\n",
        "  if abs(fm) < eps:  # epsilon\n",
        "    break\n",
        "  if fa*fm < 0.0 :\n",
        "    b = m\n",
        "  else:\n",
        "    a = m"
      ]
    },
    {
      "cell_type": "code",
      "execution_count": 9,
      "metadata": {
        "id": "ECVkCd6ewZzi"
      },
      "outputs": [
        {
          "name": "stdout",
          "output_type": "stream",
          "text": [
            "[0] [-2.0, 0.0, 2.0]\n",
            "[-36.0, -4.0, 28.0] \n",
            "\n",
            "[1] [0.0, 1.0, 2.0]\n",
            "[-4.0, -3.0, 28.0] \n",
            "\n",
            "[2] [1.0, 1.5, 2.0]\n",
            "[-3.0, 6.875, 28.0] \n",
            "\n",
            "[3] [1.0, 1.25, 1.5]\n",
            "[-3.0, 0.765625, 6.875] \n",
            "\n",
            "[4] [1.0, 1.125, 1.25]\n",
            "[-3.0, -1.380859375, 0.765625] \n",
            "\n",
            "[5] [1.125, 1.1875, 1.25]\n",
            "[-1.380859375, -0.377197265625, 0.765625] \n",
            "\n",
            "[6] [1.1875, 1.21875, 1.25]\n",
            "[-0.377197265625, 0.176361083984375, 0.765625] \n",
            "\n",
            "[7] [1.1875, 1.203125, 1.21875]\n",
            "[-0.377197265625, -0.10482406616210938, 0.176361083984375] \n",
            "\n",
            "[8] [1.203125, 1.2109375, 1.21875]\n",
            "[-0.10482406616210938, 0.03465986251831055, 0.176361083984375] \n",
            "\n",
            "[9] [1.203125, 1.20703125, 1.2109375]\n",
            "[-0.10482406616210938, -0.03535836935043335, 0.03465986251831055] \n",
            "\n",
            "[10] [1.20703125, 1.208984375, 1.2109375]\n",
            "[-0.03535836935043335, -0.0004184320569038391, 0.03465986251831055] \n",
            "\n",
            "[11] [1.208984375, 1.2099609375, 1.2109375]\n",
            "[-0.0004184320569038391, 0.017103406600654125, 0.03465986251831055] \n",
            "\n",
            "[12] [1.208984375, 1.20947265625, 1.2099609375]\n",
            "[-0.0004184320569038391, 0.008338161860592663, 0.017103406600654125] \n",
            "\n",
            "[13] [1.208984375, 1.209228515625, 1.20947265625]\n",
            "[-0.0004184320569038391, 0.003958783767302521, 0.008338161860592663] \n",
            "\n",
            "[14] [1.208984375, 1.2091064453125, 1.209228515625]\n",
            "[-0.0004184320569038391, 0.001769905598848709, 0.003958783767302521] \n",
            "\n",
            "[15] [1.208984375, 1.20904541015625, 1.2091064453125]\n",
            "[-0.0004184320569038391, 0.0006756692102953821, 0.001769905598848709] \n",
            "\n",
            "[16] [1.208984375, 1.209014892578125, 1.20904541015625]\n",
            "[-0.0004184320569038391, 0.00012860168695283392, 0.0006756692102953821] \n",
            "\n",
            "[17] [1.208984375, 1.2089996337890625, 1.209014892578125]\n",
            "[-0.0004184320569038391, -0.00014491940735794628, 0.00012860168695283392] \n",
            "\n",
            "[18] [1.2089996337890625, 1.2090072631835938, 1.209014892578125]\n",
            "[-0.00014491940735794628, -8.159915804384354e-06, 0.00012860168695283392] \n",
            "\n",
            "x =  1.2090072631835938 จะได้ค่า f(x) =  4.999991840084196\n"
          ]
        }
      ],
      "source": [
        "# f(x) = 5, fn(x) = 5x^3-4x-4\n",
        "import numpy as np\n",
        "\n",
        "def fx(x):\n",
        "  return 5*x**3 - 4*x - 4\n",
        "a = -2.0\n",
        "b = 2.0\n",
        "eps = 0.00001\n",
        "for itr in range(100):\n",
        "  fa = fx(a)       #5*a**3 - 4*a + 1\n",
        "  fb = fx(b)       #5*b**3 - 4*b + 1\n",
        "  m = (a + b)/2.0\n",
        "  fm = fx(m)       #5*m**3 - 4*m + 1\n",
        "  # print(itr,\">>\", a, m, b)\n",
        "  print([itr],[a,m,b])\n",
        "  # print(fa, fm, fb)\n",
        "  print([fa,fm,fb],\"\\n\")\n",
        "\n",
        "  if abs(fm) < eps:  # epsilon\n",
        "    break\n",
        "  if fa*fm < 0.0 :\n",
        "    b = m\n",
        "  else:\n",
        "    a = m\n",
        "fx5 = 5*m**3 - 4*m + 1\n",
        "print(\"x = \", m, \"จะได้ค่า f(x) = \", fx5)"
      ]
    },
    {
      "cell_type": "code",
      "execution_count": 10,
      "metadata": {
        "colab": {
          "base_uri": "https://localhost:8080/",
          "height": 448
        },
        "id": "gaTWPAvN0m1u",
        "outputId": "34cb0d0b-0263-4e0d-f15e-f3c814f87226"
      },
      "outputs": [
        {
          "name": "stdout",
          "output_type": "stream",
          "text": [
            "[-10.     -8.975  -7.95   -6.925  -5.9    -4.875  -3.85   -2.825  -1.8\n",
            "  -0.775   0.25    1.275   2.3     3.325   4.35    5.375   6.4     7.425\n",
            "   8.45    9.475  10.5  ]\n",
            "[-4.96400000e+03 -3.58280930e+03 -2.48449937e+03 -1.63676352e+03\n",
            " -1.00729500e+03 -5.63787109e+02 -2.73933125e+02 -1.05426328e+02\n",
            " -2.59600000e+01 -3.22742188e+00 -4.92187500e+00  1.26335937e+00\n",
            "  4.76350000e+01  1.66499766e+02  3.90164375e+02  7.50935547e+02\n",
            "  1.28112000e+03  2.01302445e+03  2.97895562e+03  4.21122023e+03\n",
            "  5.74212500e+03]\n"
          ]
        }
      ],
      "source": [
        "import numpy as np\n",
        "\n",
        "def fx(x):\n",
        "  return 5*x**3 - 4*x - 4\n",
        "x = np.linspace(-10.0,10.5,21)\n",
        "y = fx(x)\n",
        "print(x)\n",
        "print(y)"
      ]
    },
    {
      "cell_type": "markdown",
      "metadata": {
        "id": "0Iu4YreOqk9W"
      },
      "source": [
        "2.การหาผลเฉลย (รากของสมการ) ด้วยวิธีจุดตรึง\n",
        "<p>จุดตรึง (Fixed Point) คือจุดที่  $x = g(x)$\n",
        "<p> 2.1 หารากของสมการ $f(x) = 2x^2 - x - 3 $\n",
        "<p> $0 = 2x^2 - x - 3 $\n",
        "<p> $x = 2x^2 - 3 $\n",
        "<p> $g1(x) = 2x^2 - 3 $\n",
        "<p> -----------------------\n",
        "<p>  $x^2 = (x+3)/2$\n",
        "<p>  $x = sqrt((x+3)/2)$\n",
        "<p>  $g2(x) = sqrt((x+3)/2)$\n",
        "<p> 2.2 หาจุดตัดระหว่างเส้นโค้ง $y = cos(2x+1)$ และ เส้นตรง $y = 2x+3$\n",
        "\n"
      ]
    },
    {
      "cell_type": "code",
      "execution_count": 20,
      "metadata": {
        "colab": {
          "base_uri": "https://localhost:8080/",
          "height": 420
        },
        "id": "cqfNfXHCrC6d",
        "outputId": "e53dc419-aa43-4938-99d4-49cb05bec4bc"
      },
      "outputs": [
        {
          "name": "stdout",
          "output_type": "stream",
          "text": [
            "2.0\n",
            "5.0\n",
            "47.0\n",
            "4415.0\n",
            "38984447.0\n",
            "3039574215791615.0\n",
            "1.8478022826610422e+31\n",
            "6.828746551614716e+62\n",
            "9.326355893237975e+125\n",
            "1.7396182849466944e+252\n"
          ]
        },
        {
          "ename": "OverflowError",
          "evalue": "(34, 'Result too large')",
          "output_type": "error",
          "traceback": [
            "\u001b[1;31m---------------------------------------------------------------------------\u001b[0m",
            "\u001b[1;31mOverflowError\u001b[0m                             Traceback (most recent call last)",
            "\u001b[1;32mc:\\Users\\Thidarat.ma\\Documents\\935414_Lab_2566\\935414_Lab03_633410142_5.ipynb Cell 7\u001b[0m line \u001b[0;36m7\n\u001b[0;32m      <a href='vscode-notebook-cell:/c%3A/Users/Thidarat.ma/Documents/935414_Lab_2566/935414_Lab03_633410142_5.ipynb#W6sZmlsZQ%3D%3D?line=4'>5</a>\u001b[0m \u001b[39mprint\u001b[39m(x_old)\n\u001b[0;32m      <a href='vscode-notebook-cell:/c%3A/Users/Thidarat.ma/Documents/935414_Lab_2566/935414_Lab03_633410142_5.ipynb#W6sZmlsZQ%3D%3D?line=5'>6</a>\u001b[0m \u001b[39mfor\u001b[39;00m itr \u001b[39min\u001b[39;00m \u001b[39mrange\u001b[39m (\u001b[39m10\u001b[39m):\n\u001b[1;32m----> <a href='vscode-notebook-cell:/c%3A/Users/Thidarat.ma/Documents/935414_Lab_2566/935414_Lab03_633410142_5.ipynb#W6sZmlsZQ%3D%3D?line=6'>7</a>\u001b[0m   x_new \u001b[39m=\u001b[39m \u001b[39m2.0\u001b[39m \u001b[39m*\u001b[39m x_old \u001b[39m*\u001b[39;49m\u001b[39m*\u001b[39;49m\u001b[39m2.0\u001b[39;49m\u001b[39m-\u001b[39m\u001b[39m3.0\u001b[39m \u001b[39m#'Numerical result out of range'\u001b[39;00m\n\u001b[0;32m      <a href='vscode-notebook-cell:/c%3A/Users/Thidarat.ma/Documents/935414_Lab_2566/935414_Lab03_633410142_5.ipynb#W6sZmlsZQ%3D%3D?line=7'>8</a>\u001b[0m   x_old \u001b[39m=\u001b[39m x_new\n\u001b[0;32m      <a href='vscode-notebook-cell:/c%3A/Users/Thidarat.ma/Documents/935414_Lab_2566/935414_Lab03_633410142_5.ipynb#W6sZmlsZQ%3D%3D?line=8'>9</a>\u001b[0m   \u001b[39mprint\u001b[39m(x_old)\n",
            "\u001b[1;31mOverflowError\u001b[0m: (34, 'Result too large')"
          ]
        }
      ],
      "source": [
        "import numpy as np\n",
        "import math\n",
        "# 2.1 : x = 2*x**2-3\n",
        "# วิธ๊นี้ใช้ไม่ได้ OverflowError: (34, 'Result too large')\n",
        "\n",
        "x_old = 2.0\n",
        "print(x_old)\n",
        "for itr in range (10):\n",
        "  x_new = 2.0 * x_old **2.0-3.0 #'Numerical result out of range'\n",
        "  x_old = x_new\n",
        "  print(x_old)"
      ]
    },
    {
      "cell_type": "code",
      "execution_count": 19,
      "metadata": {
        "colab": {
          "base_uri": "https://localhost:8080/"
        },
        "id": "0SjwwbeaaU8i",
        "outputId": "7ba47b2c-5463-492c-ee92-47de76a504bf"
      },
      "outputs": [
        {
          "name": "stdout",
          "output_type": "stream",
          "text": [
            "2.0\n",
            "1.5811388300841898\n",
            "1.5134627233738183\n",
            "1.5022421115409157\n",
            "1.5003736387215212\n",
            "1.5000622718276602\n",
            "1.5000103786020382\n",
            "1.500001729766009\n",
            "1.500000288294307\n",
            "1.5000000480490505\n",
            "1.5000000080081752\n"
          ]
        }
      ],
      "source": [
        "import numpy as np\n",
        "import math\n",
        "#2.1.1: x = sqrt((x+3)/2)\n",
        "x_old = 2.0\n",
        "print(x_old)\n",
        "for itr in range (10):\n",
        "  x_new = math.sqrt((x_old+3.0)/2.0)\n",
        "  x_old = x_new\n",
        "  print(x_old)"
      ]
    },
    {
      "cell_type": "code",
      "execution_count": 21,
      "metadata": {
        "colab": {
          "base_uri": "https://localhost:8080/"
        },
        "id": "0mlWYDQJbSFP",
        "outputId": "c5d90696-35c7-4700-ea5b-9e9da52eff6c"
      },
      "outputs": [
        {
          "name": "stdout",
          "output_type": "stream",
          "text": [
            "x_old = -3.0\n",
            "iteration = [0] x = [-1.358168907268387]\n",
            "iteration = [1] x = [-1.5725141069098247]\n",
            "iteration = [2] x = [-1.7715950179101116]\n",
            "iteration = [3] x = [-1.913118255702161]\n",
            "iteration = [4] x = [-1.9753429899515131]\n",
            "iteration = [5] x = [-1.990916299059179]\n",
            "iteration = [6] x = [-1.993632741244117]\n",
            "iteration = [7] x = [-1.9940575892613888]\n",
            "iteration = [8] x = [-1.9941227165440105]\n",
            "iteration = [9] x = [-1.9941326687278593]\n"
          ]
        }
      ],
      "source": [
        "#2.2 หาจุดตัดระหว่างเส้นโค้ง  y=cos(2x+1)  และ เส้นตรง  y=2x+3\n",
        "# cos(2x+1) = 2x + 3\n",
        "# x = (cos(2x+1) - 3)/2 : --> g1(x)\n",
        "# x = (acos(2x + 3) - 1)/2 : --> g2(x)\n",
        "import numpy as np\n",
        "import math\n",
        "\n",
        "x_old = -3.0\n",
        "print(\"x_old =\",x_old)\n",
        "for itr in range (20):\n",
        "  x_new = (math.cos(2*x_old+1.0)-3.0)/2.0\n",
        "  error = abs(x_new-x_old)\n",
        "  x_old = x_new\n",
        "  print(\"iteration =\", [itr], \"x =\", [x_old])\n",
        "  if error < 0.00001:\n",
        "    break"
      ]
    },
    {
      "cell_type": "markdown",
      "metadata": {
        "id": "Wt_K2e3A-sFC"
      },
      "source": [
        "![ภาพ.png](data:image/png;base64,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)\n"
      ]
    },
    {
      "cell_type": "code",
      "execution_count": 41,
      "metadata": {},
      "outputs": [
        {
          "data": {
            "text/plain": [
              "(22.379479587768706, 2.4846213517469524e-13)"
            ]
          },
          "execution_count": 41,
          "metadata": {},
          "output_type": "execute_result"
        }
      ],
      "source": [
        "# 3. ∫_(2)^(6)(2 root()(2x))dx\n",
        "# https://www.freecodecamp.org/news/calculate-definite-indefinite-integrals-in-python/\n",
        "from scipy.integrate import quad\n",
        "import math\n",
        "\n",
        "def integrand(x):\n",
        "    return 2*(math.sqrt(2*x))\n",
        "\n",
        "I = quad(integrand, 2, 6)\n",
        "I"
      ]
    },
    {
      "cell_type": "markdown",
      "metadata": {
        "id": "6UAFy1TmsOvA"
      },
      "source": [
        "ตัวอย่าง\n",
        "\\begin{align*}\\int_{1}^{4}{{\\cos \\left( x \\right) - \\frac{3}{{{x^5}}}\\,dx}} & = \\int_{1}^{4}{{\\cos \\left( x \\right) - 3{x^{ - 5}}\\,dx}} = \\left. {\\left( {\\sin \\left( x \\right) + \\frac{3}{{4{x^4}}}} \\right)} \\right|_1^4\\\\ &  = \\sin \\left( 4 \\right) + \\frac{3}{{4\\left( {{4^4}} \\right)}} - \\left( {\\sin \\left( 1 \\right) + \\frac{3}{{4\\left( {{1^4}} \\right)}}} \\right)\\\\ &  = \\sin \\left( 4 \\right) + \\frac{3}{{1024}} - \\left( {\\sin \\left( 1 \\right) + \\frac{3}{4}} \\right) = \\require{bbox} \\bbox[2pt,border:1px solid black]{{\\sin \\left( 4 \\right) - \\sin \\left( 1 \\right) - \\frac{{765}}{{1024}}}}\\end{align*}"
      ]
    },
    {
      "cell_type": "code",
      "execution_count": 22,
      "metadata": {
        "colab": {
          "base_uri": "https://localhost:8080/"
        },
        "id": "CgkjJKVA1Qco",
        "outputId": "112a4cb2-d460-4703-90a4-1801cba2749c"
      },
      "outputs": [
        {
          "name": "stdout",
          "output_type": "stream",
          "text": [
            "1e-05 1.0 4.0 300000\n",
            "4.0\n",
            "Numerical Solution for 300000 itervals = -2.3453372269183457\n",
            "Analytical (Exact) Solution :=  -2.3453437926158247\n"
          ]
        }
      ],
      "source": [
        "# 3. 1 พื้นที่สี่เหลี่ยมคางหมู\n",
        "import numpy as np\n",
        "\n",
        "def fx(x):\n",
        "  yx = math.cos(x)-(3.0/x**5)\n",
        "  return yx\n",
        "h = 0.00001\n",
        "a = 1.0\n",
        "b = 4.0\n",
        "n = int((b - a)/h)\n",
        "print(h, a, b, n)\n",
        "x = [0]*(n+1)\n",
        "y = [0]*(n+1)\n",
        "for i in range(n+1):\n",
        "  x[i] = a+i*h\n",
        "  y[i] = fx(x[i])\n",
        "  #print(x[i], y[i])\n",
        "print(x[-1])\n",
        "IntF = 0.5*h*(y[0]+y[-1]+2.0*np.sum(y[1:-2]))\n",
        "print(\"Numerical Solution for\",n, \"intervals =\", IntF)\n",
        "AntF = math.sin(4.0)-math.sin(1.0) - (765.0/1024.0) ##Exact Solution\n",
        "print(\"Analytical (Exact) Solution := \", AntF)"
      ]
    },
    {
      "cell_type": "code",
      "execution_count": 23,
      "metadata": {
        "colab": {
          "base_uri": "https://localhost:8080/"
        },
        "id": "h-SfiDat5Xyc",
        "outputId": "4d101ffa-3d87-45b6-a9a0-d519a894f830"
      },
      "outputs": [
        {
          "name": "stdout",
          "output_type": "stream",
          "text": [
            "ค่าการบวกโดยประมาณ: 18.061333333333334\n"
          ]
        }
      ],
      "source": [
        "# https://en.wikipedia.org/wiki/Simpson%27s_rule\n",
        "\n",
        "# https://youtu.be/LPstDKgUuag?si=qvzFlNYtv0p-h-3n\n",
        "\n",
        "# 3.2 Simpson's Rules การบ้าน\n",
        "import numpy as np\n",
        "def f(x):\n",
        "    return x**2\n",
        "a = 1.0\n",
        "b = 4.0\n",
        "n = 15\n",
        "def simpsons_rule(f, a, b, n):\n",
        "    h = (b - a) / n\n",
        "    result = f(a) + f(b)\n",
        "\n",
        "    for i in range(1, n, 2):\n",
        "        result += 4 * f(a + i * h)\n",
        "\n",
        "    for i in range(2, n-1, 2):\n",
        "        result += 2 * f(a + i * h)\n",
        "\n",
        "    result *= h / 3\n",
        "    return result\n",
        "integral = simpsons_rule(f, a, b, n)\n",
        "print(\"ค่าการบวกโดยประมาณ:\", integral)"
      ]
    },
    {
      "cell_type": "markdown",
      "metadata": {
        "id": "yasEAElvkJhO"
      },
      "source": [
        "4. กำหนดตารางข้อมูล x-y จงหาสมการเส้นแนวโน้มข้อมูล y = ax + b โดยใช้การถดถอยเชิงเส้น (linear regression)\n",
        "\n",
        "<p>    x\t= [1,\t3,\t5,\t7,\t10,\t12,\t13,\t16,\t18,\t20]\n",
        "<p>    y\t= [4,\t5,\t6,\t5,\t8,\t7,\t6,\t9,\t12,\t11]"
      ]
    },
    {
      "cell_type": "code",
      "execution_count": 24,
      "metadata": {
        "colab": {
          "base_uri": "https://localhost:8080/",
          "height": 465
        },
        "id": "EI7I8Hj4kaKC",
        "outputId": "b60a0013-a90e-490b-9da1-c752e22ba211"
      },
      "outputs": [
        {
          "name": "stdout",
          "output_type": "stream",
          "text": [
            "[0.3724966622162884, 3.388785046728972]\n",
            "10.0\n"
          ]
        }
      ],
      "source": [
        "#Linear Regression\n",
        "import numpy as np\n",
        "\n",
        "xi = [1, 3, 5, 7, 10, 12, 13, 16, 18, 20]\n",
        "yi = [4, 5, 6, 5, 8, 7, 6, 9, 12, 11]\n",
        "n = len(xi)\n",
        "xi = np.array(xi)\n",
        "yi = np.array(yi)\n",
        "sxiyi = np.sum(xi*yi)\n",
        "sxi = np.sum(xi)\n",
        "syi = np.sum(yi)\n",
        "sxip2 = np.sum(xi**2)\n",
        "sxi_2 = sxi**2\n",
        "###\n",
        "a = (n*sxiyi - sxi*syi)/(n*sxip2-sxi_2)\n",
        "b = (sxip2*syi-sxiyi*sxi)/(n*sxip2-sxi_2)\n",
        "print([a,b])\n",
        "ym = a*xi + b\n",
        "xc = 19\n",
        "yc = round(a*xc + b,0)\n",
        "print(yc)\n"
      ]
    }
  ],
  "metadata": {
    "colab": {
      "provenance": []
    },
    "kernelspec": {
      "display_name": "Python 3",
      "name": "python3"
    },
    "language_info": {
      "codemirror_mode": {
        "name": "ipython",
        "version": 3
      },
      "file_extension": ".py",
      "mimetype": "text/x-python",
      "name": "python",
      "nbconvert_exporter": "python",
      "pygments_lexer": "ipython3",
      "version": "3.12.0"
    }
  },
  "nbformat": 4,
  "nbformat_minor": 0
}
